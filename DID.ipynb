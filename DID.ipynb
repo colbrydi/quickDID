{
 "cells": [
  {
   "cell_type": "markdown",
   "id": "56bc4fb5-e7ae-4a29-aa01-c458722661a3",
   "metadata": {},
   "source": [
    "# Deidentifation (DID)"
   ]
  },
  {
   "cell_type": "code",
   "execution_count": 1,
   "id": "35ade761-9912-4d2d-a0a2-f14ae5bfbd69",
   "metadata": {},
   "outputs": [],
   "source": [
    "import DID\n",
    "import pandas as pd"
   ]
  },
  {
   "cell_type": "code",
   "execution_count": 4,
   "id": "efba5cea-e56d-4293-9a6b-57177fb549af",
   "metadata": {},
   "outputs": [],
   "source": [
    "# Get the usernames from the input data file\n",
    "df = pd.read_csv('First contact - Attempt Details.csv')\n",
    "usernames = set(df['Username'])\n",
    "\n",
    "# Make sure the usernames is a list of ALL usernames in all files.  \n",
    "lookup_table = DID.makeLookup(usernames)\n",
    "DID.dict2LU(lookup_table).to_csv('did_data.csv') # Save out lookup table"
   ]
  },
  {
   "cell_type": "code",
   "execution_count": 3,
   "id": "d64398b8-3f26-40b2-a455-18b264fbeb49",
   "metadata": {},
   "outputs": [],
   "source": [
    "# Deidentify data\n",
    "filename = 'First contact - Attempt Details.csv'\n",
    "df = pd.read_csv('First contact - Attempt Details.csv')\n",
    "df['FirstName'] = 'DID'\n",
    "df['LastName'] = 'DID'\n",
    "\n",
    "# Now the important part. Read in the table and replace the usernames\n",
    "lookup_table = DID.LU2dict(pd.read_csv('did_data.csv')) \n",
    "result_df = DID.use_dict_lookup(df, lookup_table, 'Username')\n",
    "\n",
    "# Save the file using a new prefix.\n",
    "result_df.to_csv(f\"DID_{filename}\")"
   ]
  },
  {
   "cell_type": "code",
   "execution_count": null,
   "id": "99c6488c-4b71-4a74-aca5-488f258d2f55",
   "metadata": {},
   "outputs": [],
   "source": []
  }
 ],
 "metadata": {
  "kernelspec": {
   "display_name": "Python 3.11 (default)",
   "language": "python",
   "name": "python3"
  },
  "language_info": {
   "codemirror_mode": {
    "name": "ipython",
    "version": 3
   },
   "file_extension": ".py",
   "mimetype": "text/x-python",
   "name": "python",
   "nbconvert_exporter": "python",
   "pygments_lexer": "ipython3",
   "version": "3.11.6"
  }
 },
 "nbformat": 4,
 "nbformat_minor": 5
}
